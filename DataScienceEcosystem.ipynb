{
 "cells": [
  {
   "cell_type": "markdown",
   "id": "48556d06-67a9-4025-acf1-a0483539361a",
   "metadata": {},
   "source": [
    "# Data Science Tools and Ecosystem"
   ]
  },
  {
   "cell_type": "markdown",
   "id": "0bd6f163-f326-4e66-8efe-6ff5716fce64",
   "metadata": {},
   "source": [
    "Data Science Tools and Ecosystem are summarized in this notebook."
   ]
  },
  {
   "cell_type": "markdown",
   "id": "4a59afce-945b-4390-8b61-d94fc3fa06e5",
   "metadata": {},
   "source": [
    "**Objectives**\n",
    "- List popular languages for Data Science\n",
    "- List popular libraries used by Data Scientists\n",
    "- List popular Data Science tools"
   ]
  },
  {
   "cell_type": "markdown",
   "id": "f2ae93c7-5465-4745-af04-2ca3ca09d50b",
   "metadata": {},
   "source": [
    "Some of the popular languages that Data Scientists use are:\n",
    "\n",
    "1. Python\n",
    "2. R\n",
    "3. C++\n",
    "4. Julia"
   ]
  },
  {
   "cell_type": "markdown",
   "id": "54475bc1-89fc-4161-8526-9537083bc092",
   "metadata": {},
   "source": [
    "Some of the commonly used libraries used by Data Scientists include:\n",
    "\n",
    "1. ggplot2\n",
    "2. dplyr\n",
    "3. Plotly"
   ]
  },
  {
   "cell_type": "markdown",
   "id": "578a92f1-0142-4046-af56-d41d3421f504",
   "metadata": {},
   "source": [
    "| Data Science Tools |\n",
    "| -------- |\n",
    "| Jupyter Notebook |\n",
    "| Matplotlib |\n",
    "| Tensorflow |"
   ]
  },
  {
   "cell_type": "markdown",
   "id": "106541d9-7f73-404b-814a-56ad74c89f3a",
   "metadata": {},
   "source": [
    "### Below are a few examples of evaluating arithmetic expressions in Python"
   ]
  },
  {
   "cell_type": "code",
   "execution_count": 3,
   "id": "eaf69a83-d843-4fca-922b-e3e181860f4e",
   "metadata": {},
   "outputs": [
    {
     "data": {
      "text/plain": [
       "17"
      ]
     },
     "execution_count": 3,
     "metadata": {},
     "output_type": "execute_result"
    }
   ],
   "source": [
    "#This is a simple arithmetic expression to multiply then add integers\n",
    "(3*4)+5"
   ]
  },
  {
   "cell_type": "code",
   "execution_count": 4,
   "id": "296df2a5-73a7-4c83-ace1-53db7b1706af",
   "metadata": {},
   "outputs": [
    {
     "data": {
      "text/plain": [
       "3.3333333333333335"
      ]
     },
     "execution_count": 4,
     "metadata": {},
     "output_type": "execute_result"
    }
   ],
   "source": [
    "#This will convert 200 minutes to hours by dividing by 60\n",
    "200/60"
   ]
  },
  {
   "cell_type": "markdown",
   "id": "c5423dda-7da0-49e8-bd05-45e3658b8242",
   "metadata": {},
   "source": [
    "## Author\n",
    "Mason Leonard"
   ]
  },
  {
   "cell_type": "code",
   "execution_count": null,
   "id": "4a3ce7ae-427f-4ef6-b760-8ab3b226130d",
   "metadata": {},
   "outputs": [],
   "source": []
  }
 ],
 "metadata": {
  "kernelspec": {
   "display_name": "Python 3 (ipykernel)",
   "language": "python",
   "name": "python3"
  },
  "language_info": {
   "codemirror_mode": {
    "name": "ipython",
    "version": 3
   },
   "file_extension": ".py",
   "mimetype": "text/x-python",
   "name": "python",
   "nbconvert_exporter": "python",
   "pygments_lexer": "ipython3",
   "version": "3.12.7"
  }
 },
 "nbformat": 4,
 "nbformat_minor": 5
}
